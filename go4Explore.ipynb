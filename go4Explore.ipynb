{
 "cells": [
  {
   "cell_type": "code",
   "execution_count": 155,
   "metadata": {},
   "outputs": [],
   "source": [
    "from selenium import webdriver\n",
    "from selenium.webdriver.chrome.options import Options\n",
    "from selenium.webdriver.chrome.service import Service\n",
    "from selenium.webdriver.common.by import By\n",
    "from webdriver_manager.chrome import ChromeDriverManager\n",
    "from selenium.webdriver.support.ui import WebDriverWait\n",
    "from selenium.webdriver.support import expected_conditions as EC\n",
    "from selenium.common.exceptions import TimeoutException"
   ]
  },
  {
   "cell_type": "code",
   "execution_count": 156,
   "metadata": {},
   "outputs": [],
   "source": [
    "#  same same but different\n",
    "\n",
    "url = 'https://go4explore.com/'  # page need to be scrapped"
   ]
  },
  {
   "cell_type": "code",
   "execution_count": 157,
   "metadata": {},
   "outputs": [],
   "source": [
    "# smae same \n",
    "\n",
    "chrome_options = Options()\n",
    "chrome_options.add_experimental_option(\"detach\", True)\n",
    "# chrome_options.binary_location = './/CFT driver/chrome-win64/chrome.exe'\n",
    "\n",
    "driver = webdriver.Chrome(service=Service(ChromeDriverManager().install()) , options=chrome_options)\n",
    "\n",
    "driver.get(url)\n",
    "driver.maximize_window()\n"
   ]
  },
  {
   "cell_type": "code",
   "execution_count": 158,
   "metadata": {},
   "outputs": [],
   "source": [
    "# Creating lists \n",
    "\n",
    "link = \"\"\n",
    "product_name = []\n",
    "product_price = []\n",
    "product_ratings = []\n",
    "product_ratings_num = []\n",
    "product_link = []"
   ]
  },
  {
   "cell_type": "code",
   "execution_count": 173,
   "metadata": {},
   "outputs": [],
   "source": [
    "# Use explicit wait to wait for the <strong> elements to appear\n",
    "wait = WebDriverWait(driver, 15)  # Wait for up to 10 seconds"
   ]
  },
  {
   "cell_type": "code",
   "execution_count": 174,
   "metadata": {},
   "outputs": [],
   "source": [
    "everything = driver.find_elements(By.XPATH, '//div[contains(@class,\"mt-4 mt-lg-0 col-4\")]')\n",
    "for name in everything:\n",
    "    name_title = name.find_element(By.XPATH, './/p[contains(@class,\"mb-0 font_poppins\")]').text\n",
    "    product_name.append(name_title)\n",
    "    print(product_name)"
   ]
  },
  {
   "cell_type": "code",
   "execution_count": 175,
   "metadata": {},
   "outputs": [],
   "source": [
    "for links in everything:\n",
    "    link = links.find_element(By.XPATH, './/a[@class=\" text-decoration-none d-flex align-items-center justify-content-center flex-column\"]').get_attribute(\"href\")\n",
    "    # print(link)\n",
    "    product_link.append(link)\n",
    "    print(product_link)"
   ]
  },
  {
   "cell_type": "code",
   "execution_count": 176,
   "metadata": {},
   "outputs": [
    {
     "name": "stdout",
     "output_type": "stream",
     "text": [
      "6\n"
     ]
    }
   ],
   "source": [
    "link_length = len(product_link)\n",
    "print(link_length)"
   ]
  },
  {
   "cell_type": "code",
   "execution_count": 177,
   "metadata": {},
   "outputs": [],
   "source": [
    "# categories= driver.find_elements(By.XPATH, '//div[contains(@class,\"mt-4 mt-lg-0 col-4\")]')\n",
    "# categories_length = len(categories)\n",
    "# print(categories_length)"
   ]
  },
  {
   "cell_type": "code",
   "execution_count": 182,
   "metadata": {},
   "outputs": [
    {
     "ename": "ElementClickInterceptedException",
     "evalue": "Message: element click intercepted: Element is not clickable at point (759, 1072)\n  (Session info: chrome=128.0.6613.138)\nStacktrace:\n\tGetHandleVerifier [0x00E5D933+25811]\n\t(No symbol) [0x00DEE314]\n\t(No symbol) [0x00CE2523]\n\t(No symbol) [0x00D2D397]\n\t(No symbol) [0x00D2B799]\n\t(No symbol) [0x00D2967B]\n\t(No symbol) [0x00D28C7B]\n\t(No symbol) [0x00D1D9DF]\n\t(No symbol) [0x00D4AD2C]\n\t(No symbol) [0x00D1D475]\n\t(No symbol) [0x00D4AFC4]\n\t(No symbol) [0x00D646F0]\n\t(No symbol) [0x00D4AAC6]\n\t(No symbol) [0x00D1BEFD]\n\t(No symbol) [0x00D1C8FD]\n\tGetHandleVerifier [0x0112F143+2981091]\n\tGetHandleVerifier [0x01182FF9+3324825]\n\tGetHandleVerifier [0x00EEB32F+605903]\n\tGetHandleVerifier [0x00EF2CBC+637020]\n\t(No symbol) [0x00DF6F4D]\n\t(No symbol) [0x00DF3DD8]\n\t(No symbol) [0x00DF3F75]\n\t(No symbol) [0x00DE6406]\n\tBaseThreadInitThunk [0x7731FCC9+25]\n\tRtlGetAppContainerNamedObjectPath [0x77DC80CE+286]\n\tRtlGetAppContainerNamedObjectPath [0x77DC809E+238]\n",
     "output_type": "error",
     "traceback": [
      "\u001b[1;31m---------------------------------------------------------------------------\u001b[0m",
      "\u001b[1;31mElementClickInterceptedException\u001b[0m          Traceback (most recent call last)",
      "\u001b[1;32mc:\\Users\\HP\\Desktop\\predicton\\selenium\\5.ipynb Cell 10\u001b[0m line \u001b[0;36m1\n\u001b[0;32m      <a href='vscode-notebook-cell:/c%3A/Users/HP/Desktop/predicton/selenium/5.ipynb#X21sZmlsZQ%3D%3D?line=7'>8</a>\u001b[0m button \u001b[39m=\u001b[39m wait\u001b[39m.\u001b[39muntil(EC\u001b[39m.\u001b[39melement_to_be_clickable((By\u001b[39m.\u001b[39mXPATH, \u001b[39m'\u001b[39m\u001b[39m//button[@class=\u001b[39m\u001b[39m\"\u001b[39m\u001b[39mtext-white text-decoration-none border-0 py-2 px-4 fw-medium fs_sm rounded-5 bg_blue\u001b[39m\u001b[39m\"\u001b[39m\u001b[39m]\u001b[39m\u001b[39m'\u001b[39m)))\n\u001b[0;32m     <a href='vscode-notebook-cell:/c%3A/Users/HP/Desktop/predicton/selenium/5.ipynb#X21sZmlsZQ%3D%3D?line=9'>10</a>\u001b[0m \u001b[39mif\u001b[39;00m button\u001b[39m.\u001b[39mtext \u001b[39m!=\u001b[39m \u001b[39m\"\u001b[39m\u001b[39mView Less\u001b[39m\u001b[39m\"\u001b[39m:\n\u001b[1;32m---> <a href='vscode-notebook-cell:/c%3A/Users/HP/Desktop/predicton/selenium/5.ipynb#X21sZmlsZQ%3D%3D?line=10'>11</a>\u001b[0m     button\u001b[39m.\u001b[39;49mclick()\n\u001b[0;32m     <a href='vscode-notebook-cell:/c%3A/Users/HP/Desktop/predicton/selenium/5.ipynb#X21sZmlsZQ%3D%3D?line=12'>13</a>\u001b[0m \u001b[39melif\u001b[39;00m button\u001b[39m.\u001b[39mtext \u001b[39m==\u001b[39m \u001b[39m\"\u001b[39m\u001b[39mView Less\u001b[39m\u001b[39m\"\u001b[39m:\n\u001b[0;32m     <a href='vscode-notebook-cell:/c%3A/Users/HP/Desktop/predicton/selenium/5.ipynb#X21sZmlsZQ%3D%3D?line=13'>14</a>\u001b[0m     data \u001b[39m=\u001b[39m driver\u001b[39m.\u001b[39mfind_elements(By\u001b[39m.\u001b[39mXPATH , \u001b[39m'\u001b[39m\u001b[39m //div[contains(@class,\u001b[39m\u001b[39m\"\u001b[39m\u001b[39m col-6 col-xl-4 col-xxl-3 mb-4\u001b[39m\u001b[39m\"\u001b[39m\u001b[39m)]\u001b[39m\u001b[39m'\u001b[39m)\n",
      "File \u001b[1;32m~\\AppData\\Roaming\\Python\\Python311\\site-packages\\selenium\\webdriver\\remote\\webelement.py:94\u001b[0m, in \u001b[0;36mWebElement.click\u001b[1;34m(self)\u001b[0m\n\u001b[0;32m     92\u001b[0m \u001b[39mdef\u001b[39;00m \u001b[39mclick\u001b[39m(\u001b[39mself\u001b[39m) \u001b[39m-\u001b[39m\u001b[39m>\u001b[39m \u001b[39mNone\u001b[39;00m:\n\u001b[0;32m     93\u001b[0m \u001b[39m    \u001b[39m\u001b[39m\"\"\"Clicks the element.\"\"\"\u001b[39;00m\n\u001b[1;32m---> 94\u001b[0m     \u001b[39mself\u001b[39;49m\u001b[39m.\u001b[39;49m_execute(Command\u001b[39m.\u001b[39;49mCLICK_ELEMENT)\n",
      "File \u001b[1;32m~\\AppData\\Roaming\\Python\\Python311\\site-packages\\selenium\\webdriver\\remote\\webelement.py:395\u001b[0m, in \u001b[0;36mWebElement._execute\u001b[1;34m(self, command, params)\u001b[0m\n\u001b[0;32m    393\u001b[0m     params \u001b[39m=\u001b[39m {}\n\u001b[0;32m    394\u001b[0m params[\u001b[39m\"\u001b[39m\u001b[39mid\u001b[39m\u001b[39m\"\u001b[39m] \u001b[39m=\u001b[39m \u001b[39mself\u001b[39m\u001b[39m.\u001b[39m_id\n\u001b[1;32m--> 395\u001b[0m \u001b[39mreturn\u001b[39;00m \u001b[39mself\u001b[39;49m\u001b[39m.\u001b[39;49m_parent\u001b[39m.\u001b[39;49mexecute(command, params)\n",
      "File \u001b[1;32m~\\AppData\\Roaming\\Python\\Python311\\site-packages\\selenium\\webdriver\\remote\\webdriver.py:354\u001b[0m, in \u001b[0;36mWebDriver.execute\u001b[1;34m(self, driver_command, params)\u001b[0m\n\u001b[0;32m    352\u001b[0m response \u001b[39m=\u001b[39m \u001b[39mself\u001b[39m\u001b[39m.\u001b[39mcommand_executor\u001b[39m.\u001b[39mexecute(driver_command, params)\n\u001b[0;32m    353\u001b[0m \u001b[39mif\u001b[39;00m response:\n\u001b[1;32m--> 354\u001b[0m     \u001b[39mself\u001b[39;49m\u001b[39m.\u001b[39;49merror_handler\u001b[39m.\u001b[39;49mcheck_response(response)\n\u001b[0;32m    355\u001b[0m     response[\u001b[39m\"\u001b[39m\u001b[39mvalue\u001b[39m\u001b[39m\"\u001b[39m] \u001b[39m=\u001b[39m \u001b[39mself\u001b[39m\u001b[39m.\u001b[39m_unwrap_value(response\u001b[39m.\u001b[39mget(\u001b[39m\"\u001b[39m\u001b[39mvalue\u001b[39m\u001b[39m\"\u001b[39m, \u001b[39mNone\u001b[39;00m))\n\u001b[0;32m    356\u001b[0m     \u001b[39mreturn\u001b[39;00m response\n",
      "File \u001b[1;32m~\\AppData\\Roaming\\Python\\Python311\\site-packages\\selenium\\webdriver\\remote\\errorhandler.py:229\u001b[0m, in \u001b[0;36mErrorHandler.check_response\u001b[1;34m(self, response)\u001b[0m\n\u001b[0;32m    227\u001b[0m         alert_text \u001b[39m=\u001b[39m value[\u001b[39m\"\u001b[39m\u001b[39malert\u001b[39m\u001b[39m\"\u001b[39m]\u001b[39m.\u001b[39mget(\u001b[39m\"\u001b[39m\u001b[39mtext\u001b[39m\u001b[39m\"\u001b[39m)\n\u001b[0;32m    228\u001b[0m     \u001b[39mraise\u001b[39;00m exception_class(message, screen, stacktrace, alert_text)  \u001b[39m# type: ignore[call-arg]  # mypy is not smart enough here\u001b[39;00m\n\u001b[1;32m--> 229\u001b[0m \u001b[39mraise\u001b[39;00m exception_class(message, screen, stacktrace)\n",
      "\u001b[1;31mElementClickInterceptedException\u001b[0m: Message: element click intercepted: Element is not clickable at point (759, 1072)\n  (Session info: chrome=128.0.6613.138)\nStacktrace:\n\tGetHandleVerifier [0x00E5D933+25811]\n\t(No symbol) [0x00DEE314]\n\t(No symbol) [0x00CE2523]\n\t(No symbol) [0x00D2D397]\n\t(No symbol) [0x00D2B799]\n\t(No symbol) [0x00D2967B]\n\t(No symbol) [0x00D28C7B]\n\t(No symbol) [0x00D1D9DF]\n\t(No symbol) [0x00D4AD2C]\n\t(No symbol) [0x00D1D475]\n\t(No symbol) [0x00D4AFC4]\n\t(No symbol) [0x00D646F0]\n\t(No symbol) [0x00D4AAC6]\n\t(No symbol) [0x00D1BEFD]\n\t(No symbol) [0x00D1C8FD]\n\tGetHandleVerifier [0x0112F143+2981091]\n\tGetHandleVerifier [0x01182FF9+3324825]\n\tGetHandleVerifier [0x00EEB32F+605903]\n\tGetHandleVerifier [0x00EF2CBC+637020]\n\t(No symbol) [0x00DF6F4D]\n\t(No symbol) [0x00DF3DD8]\n\t(No symbol) [0x00DF3F75]\n\t(No symbol) [0x00DE6406]\n\tBaseThreadInitThunk [0x7731FCC9+25]\n\tRtlGetAppContainerNamedObjectPath [0x77DC80CE+286]\n\tRtlGetAppContainerNamedObjectPath [0x77DC809E+238]\n"
     ]
    }
   ],
   "source": [
    "trip_namess = []\n",
    "\n",
    "for p in (0,link_length):\n",
    "    if p==0 :\n",
    "        try:\n",
    "            # Navigate to the link\n",
    "            driver.get(product_link[0])\n",
    "            button = wait.until(EC.element_to_be_clickable((By.XPATH, '//button[@class=\"text-white text-decoration-none border-0 py-2 px-4 fw-medium fs_sm rounded-5 bg_blue\"]')))\n",
    "\n",
    "            if button.text != \"View Less\":\n",
    "                button.click()\n",
    "\n",
    "            elif button.text == \"View Less\":\n",
    "                data = driver.find_elements(By.XPATH , ' //div[contains(@class,\" col-6 col-xl-4 col-xxl-3 mb-4\")]')\n",
    "                for trip_names in data:\n",
    "                    trip_name = trip_names.find_element(By.XPATH , './/p[contains(@class,\"pt-2 mb-2 text-capitalize font_poppins text-black fw-semibold pkgname_size text_ellipsis \")]').text\n",
    "                    print(trip_name)\n",
    "\n",
    "        except TimeoutException:\n",
    "            print(\"Link element not found or navigation failed.\")\n",
    "            driver.back()"
   ]
  },
  {
   "cell_type": "code",
   "execution_count": null,
   "metadata": {},
   "outputs": [
    {
     "ename": "InvalidArgumentException",
     "evalue": "Message: invalid argument\n  (Session info: chrome=128.0.6613.138)\nStacktrace:\n\tGetHandleVerifier [0x00E5D933+25811]\n\t(No symbol) [0x00DEE314]\n\t(No symbol) [0x00CE2399]\n\t(No symbol) [0x00CCDB9C]\n\t(No symbol) [0x00CCC553]\n\t(No symbol) [0x00CCCB7B]\n\t(No symbol) [0x00CE4F64]\n\t(No symbol) [0x00D65147]\n\t(No symbol) [0x00D4AD2C]\n\t(No symbol) [0x00D646F0]\n\t(No symbol) [0x00D4AAC6]\n\t(No symbol) [0x00D1BEFD]\n\t(No symbol) [0x00D1C8FD]\n\tGetHandleVerifier [0x0112F143+2981091]\n\tGetHandleVerifier [0x01182FF9+3324825]\n\tGetHandleVerifier [0x00EEB32F+605903]\n\tGetHandleVerifier [0x00EF2CBC+637020]\n\t(No symbol) [0x00DF6F4D]\n\t(No symbol) [0x00DF3DD8]\n\t(No symbol) [0x00DF3F75]\n\t(No symbol) [0x00DE6406]\n\tBaseThreadInitThunk [0x7731FCC9+25]\n\tRtlGetAppContainerNamedObjectPath [0x77DC80CE+286]\n\tRtlGetAppContainerNamedObjectPath [0x77DC809E+238]\n",
     "output_type": "error",
     "traceback": [
      "\u001b[1;31m---------------------------------------------------------------------------\u001b[0m",
      "\u001b[1;31mInvalidArgumentException\u001b[0m                  Traceback (most recent call last)",
      "\u001b[1;32mc:\\Users\\HP\\Desktop\\predicton\\selenium\\5.ipynb Cell 11\u001b[0m line \u001b[0;36m4\n\u001b[0;32m      <a href='vscode-notebook-cell:/c%3A/Users/HP/Desktop/predicton/selenium/5.ipynb#W6sZmlsZQ%3D%3D?line=0'>1</a>\u001b[0m \u001b[39mfor\u001b[39;00m i \u001b[39min\u001b[39;00m product_link:\n\u001b[0;32m      <a href='vscode-notebook-cell:/c%3A/Users/HP/Desktop/predicton/selenium/5.ipynb#W6sZmlsZQ%3D%3D?line=1'>2</a>\u001b[0m     \u001b[39mtry\u001b[39;00m:\n\u001b[0;32m      <a href='vscode-notebook-cell:/c%3A/Users/HP/Desktop/predicton/selenium/5.ipynb#W6sZmlsZQ%3D%3D?line=2'>3</a>\u001b[0m         \u001b[39m# Navigate to the link\u001b[39;00m\n\u001b[1;32m----> <a href='vscode-notebook-cell:/c%3A/Users/HP/Desktop/predicton/selenium/5.ipynb#W6sZmlsZQ%3D%3D?line=3'>4</a>\u001b[0m         driver\u001b[39m.\u001b[39;49mget(i[\u001b[39m0\u001b[39;49m])\n\u001b[0;32m      <a href='vscode-notebook-cell:/c%3A/Users/HP/Desktop/predicton/selenium/5.ipynb#W6sZmlsZQ%3D%3D?line=4'>5</a>\u001b[0m         data \u001b[39m=\u001b[39m driver\u001b[39m.\u001b[39mfind_elements(By\u001b[39m.\u001b[39mXPATH , \u001b[39m'\u001b[39m\u001b[39m //div[contains(@class,\u001b[39m\u001b[39m\"\u001b[39m\u001b[39m col-6 col-xl-4 col-xxl-3 mb-4\u001b[39m\u001b[39m\"\u001b[39m\u001b[39m)]\u001b[39m\u001b[39m'\u001b[39m)\n\u001b[0;32m      <a href='vscode-notebook-cell:/c%3A/Users/HP/Desktop/predicton/selenium/5.ipynb#W6sZmlsZQ%3D%3D?line=5'>6</a>\u001b[0m         \u001b[39mfor\u001b[39;00m trip_names \u001b[39min\u001b[39;00m data:\n",
      "File \u001b[1;32m~\\AppData\\Roaming\\Python\\Python311\\site-packages\\selenium\\webdriver\\remote\\webdriver.py:363\u001b[0m, in \u001b[0;36mWebDriver.get\u001b[1;34m(self, url)\u001b[0m\n\u001b[0;32m    361\u001b[0m \u001b[39mdef\u001b[39;00m \u001b[39mget\u001b[39m(\u001b[39mself\u001b[39m, url: \u001b[39mstr\u001b[39m) \u001b[39m-\u001b[39m\u001b[39m>\u001b[39m \u001b[39mNone\u001b[39;00m:\n\u001b[0;32m    362\u001b[0m \u001b[39m    \u001b[39m\u001b[39m\"\"\"Loads a web page in the current browser session.\"\"\"\u001b[39;00m\n\u001b[1;32m--> 363\u001b[0m     \u001b[39mself\u001b[39;49m\u001b[39m.\u001b[39;49mexecute(Command\u001b[39m.\u001b[39;49mGET, {\u001b[39m\"\u001b[39;49m\u001b[39murl\u001b[39;49m\u001b[39m\"\u001b[39;49m: url})\n",
      "File \u001b[1;32m~\\AppData\\Roaming\\Python\\Python311\\site-packages\\selenium\\webdriver\\remote\\webdriver.py:354\u001b[0m, in \u001b[0;36mWebDriver.execute\u001b[1;34m(self, driver_command, params)\u001b[0m\n\u001b[0;32m    352\u001b[0m response \u001b[39m=\u001b[39m \u001b[39mself\u001b[39m\u001b[39m.\u001b[39mcommand_executor\u001b[39m.\u001b[39mexecute(driver_command, params)\n\u001b[0;32m    353\u001b[0m \u001b[39mif\u001b[39;00m response:\n\u001b[1;32m--> 354\u001b[0m     \u001b[39mself\u001b[39;49m\u001b[39m.\u001b[39;49merror_handler\u001b[39m.\u001b[39;49mcheck_response(response)\n\u001b[0;32m    355\u001b[0m     response[\u001b[39m\"\u001b[39m\u001b[39mvalue\u001b[39m\u001b[39m\"\u001b[39m] \u001b[39m=\u001b[39m \u001b[39mself\u001b[39m\u001b[39m.\u001b[39m_unwrap_value(response\u001b[39m.\u001b[39mget(\u001b[39m\"\u001b[39m\u001b[39mvalue\u001b[39m\u001b[39m\"\u001b[39m, \u001b[39mNone\u001b[39;00m))\n\u001b[0;32m    356\u001b[0m     \u001b[39mreturn\u001b[39;00m response\n",
      "File \u001b[1;32m~\\AppData\\Roaming\\Python\\Python311\\site-packages\\selenium\\webdriver\\remote\\errorhandler.py:229\u001b[0m, in \u001b[0;36mErrorHandler.check_response\u001b[1;34m(self, response)\u001b[0m\n\u001b[0;32m    227\u001b[0m         alert_text \u001b[39m=\u001b[39m value[\u001b[39m\"\u001b[39m\u001b[39malert\u001b[39m\u001b[39m\"\u001b[39m]\u001b[39m.\u001b[39mget(\u001b[39m\"\u001b[39m\u001b[39mtext\u001b[39m\u001b[39m\"\u001b[39m)\n\u001b[0;32m    228\u001b[0m     \u001b[39mraise\u001b[39;00m exception_class(message, screen, stacktrace, alert_text)  \u001b[39m# type: ignore[call-arg]  # mypy is not smart enough here\u001b[39;00m\n\u001b[1;32m--> 229\u001b[0m \u001b[39mraise\u001b[39;00m exception_class(message, screen, stacktrace)\n",
      "\u001b[1;31mInvalidArgumentException\u001b[0m: Message: invalid argument\n  (Session info: chrome=128.0.6613.138)\nStacktrace:\n\tGetHandleVerifier [0x00E5D933+25811]\n\t(No symbol) [0x00DEE314]\n\t(No symbol) [0x00CE2399]\n\t(No symbol) [0x00CCDB9C]\n\t(No symbol) [0x00CCC553]\n\t(No symbol) [0x00CCCB7B]\n\t(No symbol) [0x00CE4F64]\n\t(No symbol) [0x00D65147]\n\t(No symbol) [0x00D4AD2C]\n\t(No symbol) [0x00D646F0]\n\t(No symbol) [0x00D4AAC6]\n\t(No symbol) [0x00D1BEFD]\n\t(No symbol) [0x00D1C8FD]\n\tGetHandleVerifier [0x0112F143+2981091]\n\tGetHandleVerifier [0x01182FF9+3324825]\n\tGetHandleVerifier [0x00EEB32F+605903]\n\tGetHandleVerifier [0x00EF2CBC+637020]\n\t(No symbol) [0x00DF6F4D]\n\t(No symbol) [0x00DF3DD8]\n\t(No symbol) [0x00DF3F75]\n\t(No symbol) [0x00DE6406]\n\tBaseThreadInitThunk [0x7731FCC9+25]\n\tRtlGetAppContainerNamedObjectPath [0x77DC80CE+286]\n\tRtlGetAppContainerNamedObjectPath [0x77DC809E+238]\n"
     ]
    }
   ],
   "source": [
    "for i in product_link:\n",
    "    try:\n",
    "        # Navigate to the link\n",
    "        driver.get(i[0])\n",
    "        data = driver.find_elements(By.XPATH , ' //div[contains(@class,\" col-6 col-xl-4 col-xxl-3 mb-4\")]')\n",
    "        for trip_names in data:\n",
    "            trip_name = trip_names.find_element(By.XPATH , './/p[contains(@class,\"pt-2 mb-2 text-capitalize font_poppins text-black fw-semibold pkgname_size text_ellipsis \")]')\n",
    "            print(trip_name)\n",
    "            \n",
    "    except TimeoutException:\n",
    "        print(\"Link element not found or navigation failed.\")\n",
    "        driver.back()"
   ]
  }
 ],
 "metadata": {
  "kernelspec": {
   "display_name": "Python 3",
   "language": "python",
   "name": "python3"
  },
  "language_info": {
   "codemirror_mode": {
    "name": "ipython",
    "version": 3
   },
   "file_extension": ".py",
   "mimetype": "text/x-python",
   "name": "python",
   "nbconvert_exporter": "python",
   "pygments_lexer": "ipython3",
   "version": "3.11.6"
  }
 },
 "nbformat": 4,
 "nbformat_minor": 2
}
